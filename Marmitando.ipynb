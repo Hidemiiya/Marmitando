{
  "nbformat": 4,
  "nbformat_minor": 0,
  "metadata": {
    "colab": {
      "provenance": [],
      "authorship_tag": "ABX9TyNjhBFrQHD0Ncej9QDc0Ev/",
      "include_colab_link": true
    },
    "kernelspec": {
      "name": "python3",
      "display_name": "Python 3"
    },
    "language_info": {
      "name": "python"
    }
  },
  "cells": [
    {
      "cell_type": "markdown",
      "metadata": {
        "id": "view-in-github",
        "colab_type": "text"
      },
      "source": [
        "<a href=\"https://colab.research.google.com/github/Hidemiiya/Marmitando/blob/main/Marmitando.ipynb\" target=\"_parent\"><img src=\"https://colab.research.google.com/assets/colab-badge.svg\" alt=\"Open In Colab\"/></a>"
      ]
    },
    {
      "cell_type": "markdown",
      "source": [
        "Instalando SDK do google"
      ],
      "metadata": {
        "id": "QZLU4dAD5t9d"
      }
    },
    {
      "cell_type": "code",
      "execution_count": 45,
      "metadata": {
        "id": "PR9nCvdi5smG"
      },
      "outputs": [],
      "source": [
        "!pip install -q -U google-generativeai"
      ]
    },
    {
      "cell_type": "markdown",
      "source": [
        "Conetando a API KEY"
      ],
      "metadata": {
        "id": "8nuQrD8V5x1S"
      }
    },
    {
      "cell_type": "code",
      "source": [
        "import google.generativeai as genai\n",
        "from google.colab import userdata, drive\n",
        "\n",
        "genai.configure(api_key=(userdata.get(\"APIKEY\")))\n",
        "model = genai.GenerativeModel('gemini-pro')"
      ],
      "metadata": {
        "id": "KN42r-O2547X"
      },
      "execution_count": 46,
      "outputs": []
    },
    {
      "cell_type": "code",
      "source": [
        "generation_config = {\n",
        "    \"candidate_count\": 1,\n",
        "    \"temperature\": 0.5\n",
        "  }"
      ],
      "metadata": {
        "id": "PEjKJvN157iX"
      },
      "execution_count": 47,
      "outputs": []
    },
    {
      "cell_type": "code",
      "source": [
        "safety_settings = {\n",
        "    \"HARASSMENT\": \"BLOCK_MEDIUM_AND_ABOVE\",\n",
        "    \"HATE\": \"BLOCK_MEDIUM_AND_ABOVE\",\n",
        "    \"SEXUAL\": \"BLOCK_MEDIUM_AND_ABOVE\",\n",
        "    \"DANGEROUS\": \"BLOCK_MEDIUM_AND_ABOVE\",\n",
        "}"
      ],
      "metadata": {
        "id": "OrDnNJXu58rD"
      },
      "execution_count": 48,
      "outputs": []
    },
    {
      "cell_type": "markdown",
      "source": [
        "Inicializando o modelo"
      ],
      "metadata": {
        "id": "qPActyvf6EOw"
      }
    },
    {
      "cell_type": "code",
      "source": [
        "model = genai.GenerativeModel(model_name=\"models/gemini-1.0-pro\",\n",
        "                              generation_config=generation_config,\n",
        "                              safety_settings=safety_settings)"
      ],
      "metadata": {
        "id": "1bx-n8rD6GZq"
      },
      "execution_count": 49,
      "outputs": []
    },
    {
      "cell_type": "code",
      "source": [
        "chat = model.start_chat(history=[])"
      ],
      "metadata": {
        "id": "lU_hPAaf6I54"
      },
      "execution_count": 50,
      "outputs": []
    },
    {
      "cell_type": "code",
      "source": [
        "nome = input(\"Qual o seu nome?: \")\n",
        "looping = \"\"\n",
        "while looping != \"Fim\":\n",
        "  quantidade_pessoas = input(f\"Olá, {nome}, para quantas pessoas vamos cozinhar?: \")\n",
        "  if quantidade_pessoas == \"1\":\n",
        "    pessoas = f\"pessoa, \"\n",
        "  else:\n",
        "    pessoas = f\"pessoas, \"\n",
        "  quantidade_dias = input(f\"Ok {nome}, e para quantos dias seria?: \")\n",
        "  if quantidade_dias == \"1\":\n",
        "    dias = f\"dia,\"\n",
        "  else:\n",
        "    dias = f\"dias,\"\n",
        "\n",
        "  quantidade_refeicoes = input(f\"Quantas refeições por dia?: \")\n",
        "  if quantidade_refeicoes == \"1\":\n",
        "    refeicoes = f\"refeição,\"\n",
        "  else:\n",
        "    refeicoes = f\"refeições,\"\n",
        "  if quantidade_refeicoes == \"1\":\n",
        "    tipo_ref = f\"qual refeição\"\n",
        "  else:\n",
        "    tipo_ref = f\"quais refeições\"\n",
        "\n",
        "  tipo_refeicoes = input(f\"Indique {tipo_ref} gostaria: \")\n",
        "\n",
        "  restricao = input(\"Possui alguma restrição alimentar? Caso não possua, apenas clique em 'Enter': \")\n",
        "  if restricao != \"\":\n",
        "    tipo_restricao = f\"{restricao},\"\n",
        "  else:\n",
        "    tipo_restricao = f\"sem restrições alimentares,\"\n",
        "  n_alimentos = input(f\"Estamos quase lá, {nome}! Tem algum alimento que você não gostaria que estivesse nas receitas? Caso não possua, apenas clique em 'Enter': \")\n",
        "  if n_alimentos == \"\":\n",
        "    alimento = f\"sem restrição de ingredientes,\"\n",
        "  else:\n",
        "    alimento = f\"sem incluir {n_alimentos},\"\n",
        "  prompt = f\"Prontinho, {nome}! Para {quantidade_dias} {dias} para {quantidade_pessoas} {pessoas} {quantidade_refeicoes} {refeicoes} {tipo_restricao} {alimento} seguem cardápio. Espero que goste!\"\n",
        "  print(prompt, \"\\n\")\n",
        "  pergunta = f\"Considerando {quantidade_dias} {dias} {quantidade_pessoas} {pessoas} {quantidade_refeicoes} {refeicoes}, sendo {tipo_refeicoes} {tipo_restricao} {alimento}, indique as receitas para cada refeição. Respeitar a quantidade de refeições informadas do dia. Ao final de cada receita, informe o custo médio e a média de calorias. Ao final de tudo, informe o custo total médio.\"\n",
        "  resposta_receita = chat.send_message(pergunta)\n",
        "  print(resposta_receita.text, \"\\n\")\n",
        "  print(\"Caso queira novas receitas, é só digitar 'Começar novamente'! Se já terminou, digite 'Fim'.\", \"\\n\")\n",
        "  looping = input()"
      ],
      "metadata": {
        "colab": {
          "base_uri": "https://localhost:8080/",
          "height": 1000
        },
        "id": "WdCe0vR16KrO",
        "outputId": "e002058f-7bc3-44a9-be91-cfd158b3f02a"
      },
      "execution_count": 52,
      "outputs": [
        {
          "name": "stdout",
          "output_type": "stream",
          "text": [
            "Qual o seu nome?: Amanda\n",
            "Olá, Amanda, para quantas pessoas vamos cozinhar?: 2\n",
            "Ok Amanda, e para quantos dias seria?: 2\n",
            "Quantas refeições por dia?: 2\n",
            "Indique quais refeições gostaria: Almoço e Jantar\n",
            "Possui alguma restrição alimentar? Caso não possua, apenas clique em 'Enter': \n",
            "Estamos quase lá, Amanda! Tem algum alimento que você não gostaria que estivesse nas receitas? Caso não possua, apenas clique em 'Enter': \n",
            "Prontinho, Amanda! Para 2 dias, para 2 pessoas,  2 refeições, sem restrições alimentares, sem restrição de ingredientes, seguem cardápio. Espero que goste! \n",
            "\n",
            "**Dia 1**\n",
            "\n",
            "**Almoço**\n",
            "\n",
            "* **Lasanha à Bolonhesa**\n",
            "\n",
            "Ingredientes:\n",
            "- 1 pacote de massa de lasanha (500g)\n",
            "- 500g de carne moída\n",
            "- 1 cebola picada\n",
            "- 2 dentes de alho picados\n",
            "- 1 cenoura picada\n",
            "- 1 talo de aipo picado\n",
            "- 1 lata (400g) de tomate pelado\n",
            "- 1/2 xícara de vinho tinto (opcional)\n",
            "- 1 colher de sopa de orégano\n",
            "- 1 colher de sopa de manjericão\n",
            "- Sal e pimenta a gosto\n",
            "- 500g de molho branco\n",
            "- 200g de queijo mussarela ralado\n",
            "\n",
            "Custo médio: R$ 20,00\n",
            "Calorias: 600 kcal\n",
            "\n",
            "**Jantar**\n",
            "\n",
            "* **Pizza de Calabresa**\n",
            "\n",
            "Ingredientes:\n",
            "- 1 massa de pizza pronta (500g)\n",
            "- 200g de calabresa fatiada\n",
            "- 100g de cebola picada\n",
            "- 100g de pimentão verde picado\n",
            "- 100g de queijo mussarela ralado\n",
            "- 1/2 xícara de molho de tomate\n",
            "- Orégano a gosto\n",
            "\n",
            "Custo médio: R$ 15,00\n",
            "Calorias: 700 kcal\n",
            "\n",
            "**Dia 2**\n",
            "\n",
            "**Almoço**\n",
            "\n",
            "* **Feijoada**\n",
            "\n",
            "Ingredientes:\n",
            "- 500g de feijão preto\n",
            "- 500g de carne seca\n",
            "- 500g de paio\n",
            "- 500g de linguiça calabresa\n",
            "- 1 cebola picada\n",
            "- 2 dentes de alho picados\n",
            "- 2 folhas de louro\n",
            "- Sal e pimenta a gosto\n",
            "- Farinha de mandioca para acompanhar (opcional)\n",
            "\n",
            "Custo médio: R$ 25,00\n",
            "Calorias: 750 kcal\n",
            "\n",
            "**Jantar**\n",
            "\n",
            "* **Arroz de Carreteiro**\n",
            "\n",
            "Ingredientes:\n",
            "- 1 xícara de arroz\n",
            "- 500g de carne seca dessalgada e cortada em cubos\n",
            "- 1 cebola picada\n",
            "- 2 dentes de alho picados\n",
            "- 1/2 pimentão vermelho picado\n",
            "- 1/2 pimentão verde picado\n",
            "- 1/4 xícara de cheiro-verde picado\n",
            "- 1 colher de sopa de óleo\n",
            "- Sal e pimenta a gosto\n",
            "\n",
            "Custo médio: R$ 12,00\n",
            "Calorias: 650 kcal\n",
            "\n",
            "**Custo Total Médio:** R$ 72,00 \n",
            "\n",
            "Caso queira novas receitas, é só digitar 'Começar novamente'! Se já terminou, digite 'Fim'. \n",
            "\n",
            "Fim\n"
          ]
        }
      ]
    }
  ]
}