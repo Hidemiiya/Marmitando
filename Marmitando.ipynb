{
  "nbformat": 4,
  "nbformat_minor": 0,
  "metadata": {
    "colab": {
      "provenance": [],
      "authorship_tag": "ABX9TyP2CPJ11aSK67f7F8B47IJv",
      "include_colab_link": true
    },
    "kernelspec": {
      "name": "python3",
      "display_name": "Python 3"
    },
    "language_info": {
      "name": "python"
    }
  },
  "cells": [
    {
      "cell_type": "markdown",
      "metadata": {
        "id": "view-in-github",
        "colab_type": "text"
      },
      "source": [
        "<a href=\"https://colab.research.google.com/github/Hidemiiya/Marmitando/blob/main/Marmitando.ipynb\" target=\"_parent\"><img src=\"https://colab.research.google.com/assets/colab-badge.svg\" alt=\"Open In Colab\"/></a>"
      ]
    },
    {
      "cell_type": "markdown",
      "source": [
        "Instalando SDK do google"
      ],
      "metadata": {
        "id": "QZLU4dAD5t9d"
      }
    },
    {
      "cell_type": "code",
      "execution_count": 11,
      "metadata": {
        "id": "PR9nCvdi5smG"
      },
      "outputs": [],
      "source": [
        "# !pip install -q -U google-generativeai"
      ]
    },
    {
      "cell_type": "markdown",
      "source": [
        "Conetando a API KEY"
      ],
      "metadata": {
        "id": "8nuQrD8V5x1S"
      }
    },
    {
      "cell_type": "code",
      "source": [
        "import google.generativeai as genai\n",
        "from google.colab import userdata, drive\n",
        "\n",
        "genai.configure(api_key=(userdata.get(\"APIKEY\")))\n",
        "model = genai.GenerativeModel('gemini-pro')"
      ],
      "metadata": {
        "colab": {
          "base_uri": "https://localhost:8080/",
          "height": 356
        },
        "id": "KN42r-O2547X",
        "outputId": "1270119a-047c-42f1-bbb0-c91914bea553"
      },
      "execution_count": 40,
      "outputs": [
        {
          "output_type": "error",
          "ename": "MessageError",
          "evalue": "Error: credential propagation was unsuccessful",
          "traceback": [
            "\u001b[0;31m---------------------------------------------------------------------------\u001b[0m",
            "\u001b[0;31mMessageError\u001b[0m                              Traceback (most recent call last)",
            "\u001b[0;32m<ipython-input-40-387bb843de35>\u001b[0m in \u001b[0;36m<cell line: 11>\u001b[0;34m()\u001b[0m\n\u001b[1;32m      9\u001b[0m \u001b[0;34m\u001b[0m\u001b[0m\n\u001b[1;32m     10\u001b[0m \u001b[0;31m# Montar apenas a pasta específica\u001b[0m\u001b[0;34m\u001b[0m\u001b[0;34m\u001b[0m\u001b[0m\n\u001b[0;32m---> 11\u001b[0;31m \u001b[0mdrive\u001b[0m\u001b[0;34m.\u001b[0m\u001b[0mmount\u001b[0m\u001b[0;34m(\u001b[0m\u001b[0;34mr'/content/drive'\u001b[0m\u001b[0;34m)\u001b[0m\u001b[0;34m\u001b[0m\u001b[0;34m\u001b[0m\u001b[0m\n\u001b[0m\u001b[1;32m     12\u001b[0m \u001b[0;34m\u001b[0m\u001b[0m\n\u001b[1;32m     13\u001b[0m \u001b[0mos\u001b[0m\u001b[0;34m.\u001b[0m\u001b[0mchdir\u001b[0m\u001b[0;34m(\u001b[0m\u001b[0mpasta_especifica\u001b[0m\u001b[0;34m)\u001b[0m\u001b[0;34m\u001b[0m\u001b[0;34m\u001b[0m\u001b[0m\n",
            "\u001b[0;32m/usr/local/lib/python3.10/dist-packages/google/colab/drive.py\u001b[0m in \u001b[0;36mmount\u001b[0;34m(mountpoint, force_remount, timeout_ms, readonly)\u001b[0m\n\u001b[1;32m     98\u001b[0m \u001b[0;32mdef\u001b[0m \u001b[0mmount\u001b[0m\u001b[0;34m(\u001b[0m\u001b[0mmountpoint\u001b[0m\u001b[0;34m,\u001b[0m \u001b[0mforce_remount\u001b[0m\u001b[0;34m=\u001b[0m\u001b[0;32mFalse\u001b[0m\u001b[0;34m,\u001b[0m \u001b[0mtimeout_ms\u001b[0m\u001b[0;34m=\u001b[0m\u001b[0;36m120000\u001b[0m\u001b[0;34m,\u001b[0m \u001b[0mreadonly\u001b[0m\u001b[0;34m=\u001b[0m\u001b[0;32mFalse\u001b[0m\u001b[0;34m)\u001b[0m\u001b[0;34m:\u001b[0m\u001b[0;34m\u001b[0m\u001b[0;34m\u001b[0m\u001b[0m\n\u001b[1;32m     99\u001b[0m   \u001b[0;34m\"\"\"Mount your Google Drive at the specified mountpoint path.\"\"\"\u001b[0m\u001b[0;34m\u001b[0m\u001b[0;34m\u001b[0m\u001b[0m\n\u001b[0;32m--> 100\u001b[0;31m   return _mount(\n\u001b[0m\u001b[1;32m    101\u001b[0m       \u001b[0mmountpoint\u001b[0m\u001b[0;34m,\u001b[0m\u001b[0;34m\u001b[0m\u001b[0;34m\u001b[0m\u001b[0m\n\u001b[1;32m    102\u001b[0m       \u001b[0mforce_remount\u001b[0m\u001b[0;34m=\u001b[0m\u001b[0mforce_remount\u001b[0m\u001b[0;34m,\u001b[0m\u001b[0;34m\u001b[0m\u001b[0;34m\u001b[0m\u001b[0m\n",
            "\u001b[0;32m/usr/local/lib/python3.10/dist-packages/google/colab/drive.py\u001b[0m in \u001b[0;36m_mount\u001b[0;34m(mountpoint, force_remount, timeout_ms, ephemeral, readonly)\u001b[0m\n\u001b[1;32m    131\u001b[0m   )\n\u001b[1;32m    132\u001b[0m   \u001b[0;32mif\u001b[0m \u001b[0mephemeral\u001b[0m\u001b[0;34m:\u001b[0m\u001b[0;34m\u001b[0m\u001b[0;34m\u001b[0m\u001b[0m\n\u001b[0;32m--> 133\u001b[0;31m     _message.blocking_request(\n\u001b[0m\u001b[1;32m    134\u001b[0m         \u001b[0;34m'request_auth'\u001b[0m\u001b[0;34m,\u001b[0m \u001b[0mrequest\u001b[0m\u001b[0;34m=\u001b[0m\u001b[0;34m{\u001b[0m\u001b[0;34m'authType'\u001b[0m\u001b[0;34m:\u001b[0m \u001b[0;34m'dfs_ephemeral'\u001b[0m\u001b[0;34m}\u001b[0m\u001b[0;34m,\u001b[0m \u001b[0mtimeout_sec\u001b[0m\u001b[0;34m=\u001b[0m\u001b[0;32mNone\u001b[0m\u001b[0;34m\u001b[0m\u001b[0;34m\u001b[0m\u001b[0m\n\u001b[1;32m    135\u001b[0m     )\n",
            "\u001b[0;32m/usr/local/lib/python3.10/dist-packages/google/colab/_message.py\u001b[0m in \u001b[0;36mblocking_request\u001b[0;34m(request_type, request, timeout_sec, parent)\u001b[0m\n\u001b[1;32m    174\u001b[0m       \u001b[0mrequest_type\u001b[0m\u001b[0;34m,\u001b[0m \u001b[0mrequest\u001b[0m\u001b[0;34m,\u001b[0m \u001b[0mparent\u001b[0m\u001b[0;34m=\u001b[0m\u001b[0mparent\u001b[0m\u001b[0;34m,\u001b[0m \u001b[0mexpect_reply\u001b[0m\u001b[0;34m=\u001b[0m\u001b[0;32mTrue\u001b[0m\u001b[0;34m\u001b[0m\u001b[0;34m\u001b[0m\u001b[0m\n\u001b[1;32m    175\u001b[0m   )\n\u001b[0;32m--> 176\u001b[0;31m   \u001b[0;32mreturn\u001b[0m \u001b[0mread_reply_from_input\u001b[0m\u001b[0;34m(\u001b[0m\u001b[0mrequest_id\u001b[0m\u001b[0;34m,\u001b[0m \u001b[0mtimeout_sec\u001b[0m\u001b[0;34m)\u001b[0m\u001b[0;34m\u001b[0m\u001b[0;34m\u001b[0m\u001b[0m\n\u001b[0m",
            "\u001b[0;32m/usr/local/lib/python3.10/dist-packages/google/colab/_message.py\u001b[0m in \u001b[0;36mread_reply_from_input\u001b[0;34m(message_id, timeout_sec)\u001b[0m\n\u001b[1;32m    101\u001b[0m     ):\n\u001b[1;32m    102\u001b[0m       \u001b[0;32mif\u001b[0m \u001b[0;34m'error'\u001b[0m \u001b[0;32min\u001b[0m \u001b[0mreply\u001b[0m\u001b[0;34m:\u001b[0m\u001b[0;34m\u001b[0m\u001b[0;34m\u001b[0m\u001b[0m\n\u001b[0;32m--> 103\u001b[0;31m         \u001b[0;32mraise\u001b[0m \u001b[0mMessageError\u001b[0m\u001b[0;34m(\u001b[0m\u001b[0mreply\u001b[0m\u001b[0;34m[\u001b[0m\u001b[0;34m'error'\u001b[0m\u001b[0;34m]\u001b[0m\u001b[0;34m)\u001b[0m\u001b[0;34m\u001b[0m\u001b[0;34m\u001b[0m\u001b[0m\n\u001b[0m\u001b[1;32m    104\u001b[0m       \u001b[0;32mreturn\u001b[0m \u001b[0mreply\u001b[0m\u001b[0;34m.\u001b[0m\u001b[0mget\u001b[0m\u001b[0;34m(\u001b[0m\u001b[0;34m'data'\u001b[0m\u001b[0;34m,\u001b[0m \u001b[0;32mNone\u001b[0m\u001b[0;34m)\u001b[0m\u001b[0;34m\u001b[0m\u001b[0;34m\u001b[0m\u001b[0m\n\u001b[1;32m    105\u001b[0m \u001b[0;34m\u001b[0m\u001b[0m\n",
            "\u001b[0;31mMessageError\u001b[0m: Error: credential propagation was unsuccessful"
          ]
        }
      ]
    },
    {
      "cell_type": "code",
      "source": [
        "generation_config = {\n",
        "    \"candidate_count\": 1,\n",
        "    \"temperature\": 0.5\n",
        "  }"
      ],
      "metadata": {
        "id": "PEjKJvN157iX"
      },
      "execution_count": null,
      "outputs": []
    },
    {
      "cell_type": "code",
      "source": [
        "safety_settings = {\n",
        "    \"HARASSMENT\": \"BLOCK_MEDIUM_AND_ABOVE\",\n",
        "    \"HATE\": \"BLOCK_MEDIUM_AND_ABOVE\",\n",
        "    \"SEXUAL\": \"BLOCK_MEDIUM_AND_ABOVE\",\n",
        "    \"DANGEROUS\": \"BLOCK_MEDIUM_AND_ABOVE\",\n",
        "}"
      ],
      "metadata": {
        "id": "OrDnNJXu58rD"
      },
      "execution_count": null,
      "outputs": []
    },
    {
      "cell_type": "markdown",
      "source": [
        "Inicializando o modelo"
      ],
      "metadata": {
        "id": "qPActyvf6EOw"
      }
    },
    {
      "cell_type": "code",
      "source": [
        "model = genai.GenerativeModel(model_name=\"models/gemini-1.0-pro\",\n",
        "                              generation_config=generation_config,\n",
        "                              safety_settings=safety_settings)"
      ],
      "metadata": {
        "id": "1bx-n8rD6GZq"
      },
      "execution_count": null,
      "outputs": []
    },
    {
      "cell_type": "code",
      "source": [
        "chat = model.start_chat(history=[])"
      ],
      "metadata": {
        "id": "lU_hPAaf6I54"
      },
      "execution_count": null,
      "outputs": []
    },
    {
      "cell_type": "code",
      "source": [
        "nome = input(\"Qual o seu nome?: \")\n",
        "looping = \"\"\n",
        "while looping != \"Fim\":\n",
        "  quantidade_pessoas = input(f\"Olá, {nome}, para quantas pessoas vamos cozinhar?: \")\n",
        "  if quantidade_pessoas == \"1\":\n",
        "    pessoas = f\"pessoa, \"\n",
        "  else:\n",
        "    pessoas = f\"pessoas, \"\n",
        "  quantidade_dias = input(f\"Ok {nome}, e para quantos dias seria?: \")\n",
        "  if quantidade_dias == \"1\":\n",
        "    dias = f\"dia,\"\n",
        "  else:\n",
        "    dias = f\"dias,\"\n",
        "\n",
        "  quantidade_refeicoes = input(f\"Quantas refeições por dia?: \")\n",
        "  if quantidade_refeicoes == \"1\":\n",
        "    refeicoes = f\"refeição,\"\n",
        "  else:\n",
        "    refeicoes = f\"refeições,\"\n",
        "  if quantidade_refeicoes == \"1\":\n",
        "    tipo_ref = f\"qual refeição\"\n",
        "  else:\n",
        "    tipo_ref = f\"quais refeições\"\n",
        "\n",
        "  tipo_refeicoes = input(f\"Indique {tipo_ref} gostaria: \")\n",
        "\n",
        "  restricao = input(\"Possui alguma restrição alimentar?: \")\n",
        "  if restricao != \"\":\n",
        "    tipo_restricao = f\"{restricao},\"\n",
        "  else:\n",
        "    tipo_restricao = f\"sem restrições alimentares,\"\n",
        "  n_alimentos = input(f\"Estamos quase lá, {nome}! Tem algum alimento que você não gostaria que estivesse nas receitas?: \")\n",
        "  if n_alimentos == \"\":\n",
        "    alimento = f\"sem restrição de ingredientes,\"\n",
        "  else:\n",
        "    alimento = f\"sem incluir {n_alimentos},\"\n",
        "  prompt = f\"Prontinho, {nome}! Para {quantidade_dias} {dias} para {quantidade_pessoas} {pessoas} {quantidade_refeicoes} {refeicoes} {tipo_restricao} {alimento} seguem cardápio. Espero que goste!\"\n",
        "  print(prompt, \"\\n\")\n",
        "  pergunta = f\"Considerando {quantidade_dias} {dias} {quantidade_pessoas} {pessoas} {quantidade_refeicoes} {refeicoes}, sendo {tipo_refeicoes} {tipo_restricao} {alimento}, indique as receitas para cada refeição. Respeitar a quantidade de refeições informadas do dia. Ao final de cada receita, informe o custo médio e a média de calorias. Ao final de tudo, informe o custo total médio.\"\n",
        "  resposta_receita = chat.send_message(pergunta)\n",
        "  print(resposta_receita.text, \"\\n\")\n",
        "  print(\"Caso queira novas receitas, é só digitar 'Começar novamente'! Se já terminou, digite 'Fim'.\", \"\\n\")\n",
        "  looping = input()"
      ],
      "metadata": {
        "colab": {
          "base_uri": "https://localhost:8080/",
          "height": 590
        },
        "id": "WdCe0vR16KrO",
        "outputId": "8df92781-3098-46df-c972-97505c1b63d7"
      },
      "execution_count": 25,
      "outputs": [
        {
          "name": "stdout",
          "output_type": "stream",
          "text": [
            "Qual o seu nome?: Amanda\n",
            "Olá, Amanda, para quantas pessoas vamos cozinhar?: 1\n",
            "Ok Amanda, e para quantos dias seria?: 1\n",
            "Quantas refeições por dia?: 1\n",
            "Indique qual refeição gostaria: jantar\n",
            "Possui alguma restrição alimentar?: intolerante a gluten\n",
            "Estamos quase lá, Amanda! Tem algum alimento que você não gostaria que estivesse nas receitas?: \n",
            "Prontinho, Amanda! Para 1 dia, para 1 pessoa,  1 refeição, intolerante a gluten, sem restrição de ingredientes, seguem cardápio. Espero que goste! \n",
            "\n",
            "**Jantar**\n",
            "\n",
            "* **Salmão grelhado com batata doce e aspargos**\n",
            "    * Ingredientes:\n",
            "        * 100g de salmão\n",
            "        * 1 batata doce média\n",
            "        * 1 xícara de aspargos\n",
            "        * 1 colher de sopa de azeite\n",
            "        * Sal e pimenta a gosto\n",
            "    * Instruções:\n",
            "        1. Tempere o salmão com sal e pimenta.\n",
            "        2. Descasque e corte a batata doce em pedaços.\n",
            "        3. Lave e corte os aspargos em pedaços de 2 cm.\n",
            "        4. Aqueça uma frigideira antiaderente em fogo médio.\n",
            "        5. Adicione o azeite à frigideira e grelhe o salmão por 3-4 minutos de cada lado, ou até ficar cozido.\n",
            "        6. Adicione a batata doce e os aspargos à frigideira e cozinhe por 10-12 minutos, ou até ficarem macios.\n",
            "    * Custo médio: R$ 9,00\n",
            "    * Média de calorias: 400\n",
            "\n",
            "**Custo Total Médio:** R$ 9,00 \n",
            "\n",
            "Caso queira novas receitas, é só digitar 'Começar novamente'! Se já terminou, digite 'Fim'. \n",
            "\n",
            "Fim\n"
          ]
        }
      ]
    }
  ]
}