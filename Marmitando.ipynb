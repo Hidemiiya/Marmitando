{
  "nbformat": 4,
  "nbformat_minor": 0,
  "metadata": {
    "colab": {
      "provenance": [],
      "authorship_tag": "ABX9TyM46aDlURAJ/qw9B39AQcp5",
      "include_colab_link": true
    },
    "kernelspec": {
      "name": "python3",
      "display_name": "Python 3"
    },
    "language_info": {
      "name": "python"
    }
  },
  "cells": [
    {
      "cell_type": "markdown",
      "metadata": {
        "id": "view-in-github",
        "colab_type": "text"
      },
      "source": [
        "<a href=\"https://colab.research.google.com/github/Hidemiiya/Marmitando/blob/main/Marmitando.ipynb\" target=\"_parent\"><img src=\"https://colab.research.google.com/assets/colab-badge.svg\" alt=\"Open In Colab\"/></a>"
      ]
    },
    {
      "cell_type": "markdown",
      "source": [
        "Instalando SDK do google"
      ],
      "metadata": {
        "id": "QZLU4dAD5t9d"
      }
    },
    {
      "cell_type": "code",
      "execution_count": 53,
      "metadata": {
        "id": "PR9nCvdi5smG"
      },
      "outputs": [],
      "source": [
        "!pip install -q -U google-generativeai"
      ]
    },
    {
      "cell_type": "markdown",
      "source": [
        "Conetando a API KEY"
      ],
      "metadata": {
        "id": "8nuQrD8V5x1S"
      }
    },
    {
      "cell_type": "code",
      "source": [
        "import google.generativeai as genai\n",
        "from google.colab import userdata, drive\n",
        "\n",
        "genai.configure(api_key=(userdata.get(\"APIKEY\")))\n",
        "model = genai.GenerativeModel('gemini-pro')"
      ],
      "metadata": {
        "id": "KN42r-O2547X"
      },
      "execution_count": 54,
      "outputs": []
    },
    {
      "cell_type": "code",
      "source": [
        "generation_config = {\n",
        "    \"candidate_count\": 1,\n",
        "    \"temperature\": 0.5\n",
        "  }"
      ],
      "metadata": {
        "id": "PEjKJvN157iX"
      },
      "execution_count": 55,
      "outputs": []
    },
    {
      "cell_type": "code",
      "source": [
        "safety_settings = {\n",
        "    \"HARASSMENT\": \"BLOCK_MEDIUM_AND_ABOVE\",\n",
        "    \"HATE\": \"BLOCK_MEDIUM_AND_ABOVE\",\n",
        "    \"SEXUAL\": \"BLOCK_MEDIUM_AND_ABOVE\",\n",
        "    \"DANGEROUS\": \"BLOCK_MEDIUM_AND_ABOVE\",\n",
        "}"
      ],
      "metadata": {
        "id": "OrDnNJXu58rD"
      },
      "execution_count": 56,
      "outputs": []
    },
    {
      "cell_type": "markdown",
      "source": [
        "Inicializando o modelo"
      ],
      "metadata": {
        "id": "qPActyvf6EOw"
      }
    },
    {
      "cell_type": "code",
      "source": [
        "model = genai.GenerativeModel(model_name=\"models/gemini-1.0-pro\",\n",
        "                              generation_config=generation_config,\n",
        "                              safety_settings=safety_settings)"
      ],
      "metadata": {
        "id": "1bx-n8rD6GZq"
      },
      "execution_count": 57,
      "outputs": []
    },
    {
      "cell_type": "code",
      "source": [
        "chat = model.start_chat(history=[])"
      ],
      "metadata": {
        "id": "lU_hPAaf6I54"
      },
      "execution_count": 58,
      "outputs": []
    },
    {
      "cell_type": "markdown",
      "source": [
        "Aqui que a magia acontece!\n",
        "Com uma conversa amigável, o chatbot solicita as informações necessárias e entrega não só receitas compatíves, como média de custo e calorias."
      ],
      "metadata": {
        "id": "ru8kjoYELs4M"
      }
    },
    {
      "cell_type": "code",
      "source": [
        "nome = input(\"Qual o seu nome?: \")\n",
        "looping = \"\"\n",
        "while looping != \"Fim\":\n",
        "  quantidade_pessoas = input(f\"Olá, {nome}, para quantas pessoas vamos cozinhar?: \")\n",
        "  if quantidade_pessoas == \"1\":\n",
        "    pessoas = f\"pessoa, \"\n",
        "  else:\n",
        "    pessoas = f\"pessoas, \"\n",
        "  quantidade_dias = input(f\"Ok {nome}, e para quantos dias seria?: \")\n",
        "  if quantidade_dias == \"1\":\n",
        "    dias = f\"dia,\"\n",
        "  else:\n",
        "    dias = f\"dias,\"\n",
        "\n",
        "  quantidade_refeicoes = input(f\"Quantas refeições por dia?: \")\n",
        "  if quantidade_refeicoes == \"1\":\n",
        "    refeicoes = f\"refeição,\"\n",
        "  else:\n",
        "    refeicoes = f\"refeições,\"\n",
        "  if quantidade_refeicoes == \"1\":\n",
        "    tipo_ref = f\"qual refeição\"\n",
        "  else:\n",
        "    tipo_ref = f\"quais refeições\"\n",
        "\n",
        "  tipo_refeicoes = input(f\"Indique {tipo_ref} gostaria: \")\n",
        "\n",
        "  restricao = input(\"Possui alguma restrição alimentar? Caso não possua, apenas clique em 'Enter': \")\n",
        "  if restricao != \"\":\n",
        "    tipo_restricao = f\"{restricao},\"\n",
        "  else:\n",
        "    tipo_restricao = f\"sem restrições alimentares,\"\n",
        "  n_alimentos = input(f\"Estamos quase lá, {nome}! Tem algum alimento que você não gostaria que estivesse nas receitas? Caso não possua, apenas clique em 'Enter': \")\n",
        "  if n_alimentos == \"\":\n",
        "    alimento = f\"sem restrição de ingredientes,\"\n",
        "  else:\n",
        "    alimento = f\"sem incluir {n_alimentos},\"\n",
        "  prompt = f\"Prontinho, {nome}! Para {quantidade_dias} {dias} para {quantidade_pessoas} {pessoas} {quantidade_refeicoes} {refeicoes} {tipo_restricao} {alimento} segue cardápio. Espero que goste!\"\n",
        "  print(prompt, \"\\n\")\n",
        "  pergunta = f\"Considerando {quantidade_dias} {dias} {quantidade_pessoas} {pessoas} {quantidade_refeicoes} {refeicoes}, sendo {tipo_refeicoes} {tipo_restricao} {alimento}, indique as receitas detalhadas para cada refeição. Respeitar a quantidade de refeições informadas do dia. Ao final de cada receita, informe o custo médio e a média de calorias. Ao final de tudo, informe o custo total médio.\"\n",
        "  resposta_receita = chat.send_message(pergunta)\n",
        "  print(resposta_receita.text, \"\\n\")\n",
        "  lista = input(\"Gostaria de uma lista de compras para essas receditas? (Sim/Não): \")\n",
        "  if lista == \"Sim\":\n",
        "    gerar_lista = \"Considerando as receitas geradas, elabora uma lista de compras.\"\n",
        "    resposta_lista = chat.send_message(gerar_lista)\n",
        "    print(resposta_lista.text, \"\\n\")\n",
        "  else:\n",
        "    pass\n",
        "  print(\"Caso queira novas receitas, é só digitar 'Começar novamente'! Se já terminou, digite 'Fim'.\", \"\\n\")\n",
        "  looping = input()"
      ],
      "metadata": {
        "colab": {
          "base_uri": "https://localhost:8080/",
          "height": 1000
        },
        "id": "WdCe0vR16KrO",
        "outputId": "a0901115-c620-46e4-a0dd-b50d3169e433"
      },
      "execution_count": 64,
      "outputs": [
        {
          "name": "stdout",
          "output_type": "stream",
          "text": [
            "Qual o seu nome?: Amanda\n",
            "Olá, Amanda, para quantas pessoas vamos cozinhar?: 2\n",
            "Ok Amanda, e para quantos dias seria?: 2\n",
            "Quantas refeições por dia?: 1\n",
            "Indique qual refeição gostaria: Jantar\n",
            "Possui alguma restrição alimentar? Caso não possua, apenas clique em 'Enter': \n",
            "Estamos quase lá, Amanda! Tem algum alimento que você não gostaria que estivesse nas receitas? Caso não possua, apenas clique em 'Enter': \n",
            "Prontinho, Amanda! Para 2 dias, para 2 pessoas,  1 refeição, sem restrições alimentares, sem restrição de ingredientes, segue cardápio. Espero que goste! \n",
            "\n",
            "**Dia 1**\n",
            "\n",
            "* **Jantar:**\n",
            "    * **Frango assado com batatas e cenouras**\n",
            "\n",
            "**Ingredientes:**\n",
            "\n",
            "* 1 frango inteiro (cerca de 1,5kg)\n",
            "* 1kg de batatas\n",
            "* 1kg de cenouras\n",
            "* 1 cebola picada\n",
            "* 2 dentes de alho picados\n",
            "* 1/2 xícara de vinho branco (opcional)\n",
            "* Sal e pimenta a gosto\n",
            "\n",
            "**Modo de preparo:**\n",
            "\n",
            "1. Pré-aqueça o forno a 200°C.\n",
            "2. Em uma tigela grande, misture o frango, as batatas, as cenouras, a cebola, o alho, o vinho branco (se usar), o sal e a pimenta.\n",
            "3. Transfira a mistura para uma assadeira e asse por cerca de 1 hora e 30 minutos, ou até que o frango esteja cozido e os legumes estejam macios.\n",
            "\n",
            "**Custo médio:** R$ 25,00\n",
            "\n",
            "**Média de calorias:** 600 kcal\n",
            "\n",
            "**Dia 2**\n",
            "\n",
            "* **Jantar:**\n",
            "    * **Macarrão à carbonara**\n",
            "\n",
            "**Ingredientes:**\n",
            "\n",
            "* 500g de macarrão\n",
            "* 200g de bacon picado\n",
            "* 3 ovos\n",
            "* 1/2 xícara de queijo parmesão ralado\n",
            "* Sal e pimenta a gosto\n",
            "\n",
            "**Modo de preparo:**\n",
            "\n",
            "1. Cozinhe o macarrão de acordo com as instruções da embalagem.\n",
            "2. Enquanto o macarrão cozinha, frite o bacon em uma frigideira até ficar crocante.\n",
            "3. Em uma tigela, bata os ovos com o queijo parmesão, o sal e a pimenta.\n",
            "4. Escorra o macarrão e adicione-o à frigideira com o bacon.\n",
            "5. Despeje a mistura de ovos sobre o macarrão e mexa rapidamente até que os ovos cozinhem e formem um molho cremoso.\n",
            "\n",
            "**Custo médio:** R$ 15,00\n",
            "\n",
            "**Média de calorias:** 550 kcal\n",
            "\n",
            "**Custo total médio:** R$ 40,00 \n",
            "\n",
            "Gostaria de uma lista de compras para essas receditas? (Sim/Não): Sim\n",
            "**Lista de compras:**\n",
            "\n",
            "* Frango inteiro: 1 unidade (cerca de 1,5kg)\n",
            "* Batatas: 1kg\n",
            "* Cenouras: 1kg\n",
            "* Cebola: 1 unidade\n",
            "* Alho: 2 dentes\n",
            "* Vinho branco: 1/2 xícara (opcional)\n",
            "* Macarrão: 500g\n",
            "* Bacon: 200g\n",
            "* Ovos: 3 unidades\n",
            "* Queijo parmesão ralado: 1/2 xícara\n",
            "\n",
            "**Quantidades:**\n",
            "\n",
            "* Os ingredientes listados são suficientes para preparar as duas receitas para 2 pessoas.\n",
            "* Alguns ingredientes, como sal e pimenta, não foram incluídos na lista, pois são considerados itens básicos de despensa.\n",
            "\n",
            "**Observações:**\n",
            "\n",
            "* Se você não tiver vinho branco, pode omiti-lo da receita de frango assado.\n",
            "* Se você não tiver queijo parmesão ralado, pode usar outro tipo de queijo duro ralado, como pecorino romano ou grana padano. \n",
            "\n",
            "Caso queira novas receitas, é só digitar 'Começar novamente'! Se já terminou, digite 'Fim'. \n",
            "\n",
            "Fim\n"
          ]
        }
      ]
    }
  ]
}