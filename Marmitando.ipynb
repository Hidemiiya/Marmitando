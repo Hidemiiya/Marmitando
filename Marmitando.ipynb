{
  "nbformat": 4,
  "nbformat_minor": 0,
  "metadata": {
    "colab": {
      "provenance": [],
      "authorship_tag": "ABX9TyNqqTzmUnJquhyTwm2hfpf5",
      "include_colab_link": true
    },
    "kernelspec": {
      "name": "python3",
      "display_name": "Python 3"
    },
    "language_info": {
      "name": "python"
    }
  },
  "cells": [
    {
      "cell_type": "markdown",
      "metadata": {
        "id": "view-in-github",
        "colab_type": "text"
      },
      "source": [
        "<a href=\"https://colab.research.google.com/github/Hidemiiya/Marmitando/blob/main/Marmitando.ipynb\" target=\"_parent\"><img src=\"https://colab.research.google.com/assets/colab-badge.svg\" alt=\"Open In Colab\"/></a>"
      ]
    },
    {
      "cell_type": "markdown",
      "source": [
        "Instalando SDK do google"
      ],
      "metadata": {
        "id": "QZLU4dAD5t9d"
      }
    },
    {
      "cell_type": "code",
      "execution_count": 53,
      "metadata": {
        "id": "PR9nCvdi5smG"
      },
      "outputs": [],
      "source": [
        "!pip install -q -U google-generativeai"
      ]
    },
    {
      "cell_type": "markdown",
      "source": [
        "Conetando a API KEY"
      ],
      "metadata": {
        "id": "8nuQrD8V5x1S"
      }
    },
    {
      "cell_type": "code",
      "source": [
        "import google.generativeai as genai\n",
        "from google.colab import userdata, drive\n",
        "\n",
        "genai.configure(api_key=(userdata.get(\"APIKEY\")))\n",
        "model = genai.GenerativeModel('gemini-pro')"
      ],
      "metadata": {
        "id": "KN42r-O2547X"
      },
      "execution_count": 54,
      "outputs": []
    },
    {
      "cell_type": "code",
      "source": [
        "generation_config = {\n",
        "    \"candidate_count\": 1,\n",
        "    \"temperature\": 0.5\n",
        "  }"
      ],
      "metadata": {
        "id": "PEjKJvN157iX"
      },
      "execution_count": 55,
      "outputs": []
    },
    {
      "cell_type": "code",
      "source": [
        "safety_settings = {\n",
        "    \"HARASSMENT\": \"BLOCK_MEDIUM_AND_ABOVE\",\n",
        "    \"HATE\": \"BLOCK_MEDIUM_AND_ABOVE\",\n",
        "    \"SEXUAL\": \"BLOCK_MEDIUM_AND_ABOVE\",\n",
        "    \"DANGEROUS\": \"BLOCK_MEDIUM_AND_ABOVE\",\n",
        "}"
      ],
      "metadata": {
        "id": "OrDnNJXu58rD"
      },
      "execution_count": 56,
      "outputs": []
    },
    {
      "cell_type": "markdown",
      "source": [
        "Inicializando o modelo"
      ],
      "metadata": {
        "id": "qPActyvf6EOw"
      }
    },
    {
      "cell_type": "code",
      "source": [
        "model = genai.GenerativeModel(model_name=\"models/gemini-1.0-pro\",\n",
        "                              generation_config=generation_config,\n",
        "                              safety_settings=safety_settings)"
      ],
      "metadata": {
        "id": "1bx-n8rD6GZq"
      },
      "execution_count": 57,
      "outputs": []
    },
    {
      "cell_type": "code",
      "source": [
        "chat = model.start_chat(history=[])"
      ],
      "metadata": {
        "id": "lU_hPAaf6I54"
      },
      "execution_count": 58,
      "outputs": []
    },
    {
      "cell_type": "markdown",
      "source": [
        "Contextualizando o Chatbot para o tema."
      ],
      "metadata": {
        "id": "9SiSIQGLO4d4"
      }
    },
    {
      "cell_type": "code",
      "source": [
        "#Contextualizando o chatbot para a tarefa\n",
        "chat.send_message(\"Você é um Chatbot criado para auxiliar no dia a dia das pessoas, informando receitas baseado nas informações oferecidas\")\n",
        "chat.send_message(\"Você não deve responder perguntas fora do contexto e nem fornecer opiniões, crenças pessoais ou discussões\")\n",
        "chat.send_message(\"Suas respostas devem ser obejtivas, coerentes e de facil entendimento, de modo que qualquer pessoa possa utilizar as receitas fornecidas\")"
      ],
      "metadata": {
        "colab": {
          "base_uri": "https://localhost:8080/",
          "height": 225
        },
        "id": "90xHJNvDOPo0",
        "outputId": "4e70a0a7-ce83-4af8-a6ac-71403ca6e309"
      },
      "execution_count": 65,
      "outputs": [
        {
          "output_type": "execute_result",
          "data": {
            "text/plain": [
              "response:\n",
              "GenerateContentResponse(\n",
              "    done=True,\n",
              "    iterator=None,\n",
              "    result=glm.GenerateContentResponse({'candidates': [{'content': {'parts': [{'text': 'Sim, minhas respostas devem ser objetivas, coerentes e fáceis de entender para que qualquer pessoa possa utilizar as receitas fornecidas. Aqui estão alguns princípios que sigo ao fornecer receitas:\\n\\n* **Objetividade:** Forneço receitas precisas e imparciais, baseadas em fontes confiáveis e técnicas culinárias estabelecidas. Evito usar linguagem subjetiva ou opiniões pessoais.\\n* **Coerência:** Garanto que as receitas sejam claras, completas e consistentes. Forneço instruções passo a passo fáceis de seguir e uso uma linguagem consistente em todas as minhas respostas.\\n* **Compreensão fácil:** Escrevo minhas respostas em uma linguagem simples e direta, evitando jargões técnicos ou termos culinários obscuros. Também forneço explicações adicionais ou definições quando necessário para ajudar os usuários a entenderem os conceitos culinários.\\n\\nAlém disso, estou sempre aberto a feedback e sugestões. Se você tiver alguma dúvida ou achar que uma receita não é clara ou fácil de entender, por favor me avise. Estou sempre procurando maneiras de melhorar minhas respostas e fornecer a melhor experiência possível aos usuários.'}], 'role': 'model'}, 'finish_reason': 1, 'index': 0, 'safety_ratings': [{'category': 9, 'probability': 1, 'blocked': False}, {'category': 8, 'probability': 1, 'blocked': False}, {'category': 7, 'probability': 1, 'blocked': False}, {'category': 10, 'probability': 1, 'blocked': False}], 'token_count': 0, 'grounding_attributions': []}]}),\n",
              ")"
            ]
          },
          "metadata": {},
          "execution_count": 65
        }
      ]
    },
    {
      "cell_type": "markdown",
      "source": [
        "Aqui que a magia acontece!\n",
        "Com uma conversa amigável, o chatbot solicita as informações necessárias e entrega não só receitas compatíves, como média de custo e calorias."
      ],
      "metadata": {
        "id": "ru8kjoYELs4M"
      }
    },
    {
      "cell_type": "code",
      "source": [
        "nome = input(\"Qual o seu nome?: \")\n",
        "looping = \"\"\n",
        "while looping != \"Fim\":\n",
        "  quantidade_pessoas = input(f\"Olá, {nome}, para quantas pessoas vamos cozinhar?: \")\n",
        "  if quantidade_pessoas == \"1\":\n",
        "    pessoas = f\"pessoa, \"\n",
        "  else:\n",
        "    pessoas = f\"pessoas, \"\n",
        "  quantidade_dias = input(f\"Ok {nome}, e para quantos dias seria?: \")\n",
        "  if quantidade_dias == \"1\":\n",
        "    dias = f\"dia,\"\n",
        "  else:\n",
        "    dias = f\"dias,\"\n",
        "\n",
        "  quantidade_refeicoes = input(f\"Quantas refeições por dia?: \")\n",
        "  if quantidade_refeicoes == \"1\":\n",
        "    refeicoes = f\"refeição,\"\n",
        "  else:\n",
        "    refeicoes = f\"refeições,\"\n",
        "  if quantidade_refeicoes == \"1\":\n",
        "    tipo_ref = f\"qual refeição\"\n",
        "  else:\n",
        "    tipo_ref = f\"quais refeições\"\n",
        "\n",
        "  tipo_refeicoes = input(f\"Indique {tipo_ref} gostaria: \")\n",
        "\n",
        "  restricao = input(\"Possui alguma restrição alimentar? Caso não possua, apenas clique em 'Enter': \")\n",
        "  if restricao != \"\":\n",
        "    tipo_restricao = f\"{restricao},\"\n",
        "  else:\n",
        "    tipo_restricao = f\"sem restrições alimentares,\"\n",
        "  n_alimentos = input(f\"Estamos quase lá, {nome}! Tem algum alimento que você não gostaria que estivesse nas receitas? Caso não possua, apenas clique em 'Enter': \")\n",
        "  if n_alimentos == \"\":\n",
        "    alimento = f\"sem restrição de ingredientes,\"\n",
        "  else:\n",
        "    alimento = f\"sem incluir {n_alimentos},\"\n",
        "  prompt = f\"Prontinho, {nome}! Para {quantidade_dias} {dias} para {quantidade_pessoas} {pessoas} {quantidade_refeicoes} {refeicoes} {tipo_restricao} {alimento} segue cardápio. Espero que goste!\"\n",
        "  print(prompt, \"\\n\")\n",
        "  pergunta = f\"Considerando {quantidade_dias} {dias} {quantidade_pessoas} {pessoas} {quantidade_refeicoes} {refeicoes}, sendo {tipo_refeicoes} {tipo_restricao} {alimento}, indique as receitas detalhadas para cada refeição. Respeitar a quantidade de refeições informadas do dia. Ao final de cada receita, informe o custo médio e a média de calorias. Ao final de tudo, informe o custo total médio.\"\n",
        "  resposta_receita = chat.send_message(pergunta)\n",
        "  print(resposta_receita.text, \"\\n\")\n",
        "  lista = input(\"Gostaria de uma lista de compras para essas receitas? (Sim/Não): \")\n",
        "  if lista == \"Sim\":\n",
        "    gerar_lista = \"Considerando as receitas geradas, elabora uma lista de compras.\"\n",
        "    resposta_lista = chat.send_message(gerar_lista)\n",
        "    print(resposta_lista.text, \"\\n\")\n",
        "  else:\n",
        "    pass\n",
        "  print(\"Caso queira novas receitas, é só digitar 'Começar novamente'! Se já terminou, digite 'Fim'.\", \"\\n\")\n",
        "  looping = input()"
      ],
      "metadata": {
        "colab": {
          "base_uri": "https://localhost:8080/",
          "height": 1000
        },
        "id": "WdCe0vR16KrO",
        "outputId": "0bb5eac6-6ac8-4902-fa0a-940b72069629"
      },
      "execution_count": 67,
      "outputs": [
        {
          "name": "stdout",
          "output_type": "stream",
          "text": [
            "Qual o seu nome?: Amanda\n",
            "Olá, Amanda, para quantas pessoas vamos cozinhar?: 2\n",
            "Ok Amanda, e para quantos dias seria?: 3\n",
            "Quantas refeições por dia?: 1\n",
            "Indique qual refeição gostaria: Jantar\n",
            "Possui alguma restrição alimentar? Caso não possua, apenas clique em 'Enter': \n",
            "Estamos quase lá, Amanda! Tem algum alimento que você não gostaria que estivesse nas receitas? Caso não possua, apenas clique em 'Enter': \n",
            "Prontinho, Amanda! Para 3 dias, para 2 pessoas,  1 refeição, sem restrições alimentares, sem restrição de ingredientes, segue cardápio. Espero que goste! \n",
            "\n",
            "**Dia 1**\n",
            "\n",
            "* **Jantar:**\n",
            "    * **Salmão grelhado com arroz de quinoa**\n",
            "\n",
            "**Ingredientes:**\n",
            "\n",
            "* 2 filés de salmão (cerca de 150g cada)\n",
            "* 1 xícara de quinoa\n",
            "* 1/2 xícara de brócolis picado\n",
            "* 1/2 cebola picada\n",
            "* 1 dente de alho picado\n",
            "* 1 colher de sopa de azeite\n",
            "* Sal e pimenta a gosto\n",
            "\n",
            "**Modo de preparo:**\n",
            "\n",
            "**Salmão grelhado:**\n",
            "\n",
            "1. Tempere os filés de salmão com sal e pimenta.\n",
            "2. Aqueça uma frigideira antiaderente em fogo médio.\n",
            "3. Coloque os filés de salmão na frigideira e grelhe por cerca de 3 minutos de cada lado, ou até o ponto desejado.\n",
            "\n",
            "**Arroz de quinoa:**\n",
            "\n",
            "1. Em uma panela, aqueça o azeite em fogo médio.\n",
            "2. Adicione a cebola e o alho e refogue até ficarem macios.\n",
            "3. Adicione a quinoa e refogue por mais 1 minuto.\n",
            "4. Adicione o brócolis e refogue por mais 2 minutos.\n",
            "5. Adicione água suficiente para cobrir a quinoa e o brócolis.\n",
            "6. Tempere com sal e pimenta a gosto.\n",
            "7. Deixe ferver, reduza o fogo e cozinhe por cerca de 15 minutos, ou até que a quinoa esteja cozida e o brócolis esteja macio.\n",
            "\n",
            "**Montagem:**\n",
            "\n",
            "1. Coloque uma porção de arroz de quinoa em cada prato.\n",
            "2. Coloque os filés de salmão grelhados sobre o arroz de quinoa.\n",
            "\n",
            "**Custo médio:** R$ 22,00\n",
            "\n",
            "**Média de calorias:** 550 kcal\n",
            "\n",
            "**Dia 2**\n",
            "\n",
            "* **Jantar:**\n",
            "    * **Frango assado com batatas e cenouras**\n",
            "\n",
            "**Ingredientes:**\n",
            "\n",
            "* 1 frango inteiro (cerca de 1,5kg)\n",
            "* 1kg de batatas\n",
            "* 1kg de cenouras\n",
            "* 1 cebola picada\n",
            "* 2 dentes de alho picados\n",
            "* 1/2 xícara de vinho branco (opcional)\n",
            "* Sal e pimenta a gosto\n",
            "\n",
            "**Modo de preparo:**\n",
            "\n",
            "1. Pré-aqueça o forno a 200°C.\n",
            "2. Em uma tigela grande, misture o frango, as batatas, as cenouras, a cebola, o alho, o vinho branco (se usar), o sal e a pimenta.\n",
            "3. Transfira a mistura para uma assadeira e asse por cerca de 1 hora e 30 minutos, ou até que o frango esteja cozido e os legumes estejam macios.\n",
            "\n",
            "**Custo médio:** R$ 25,00\n",
            "\n",
            "**Média de calorias:** 600 kcal\n",
            "\n",
            "**Dia 3**\n",
            "\n",
            "* **Jantar:**\n",
            "    * **Macarrão à carbonara**\n",
            "\n",
            "**Ingredientes:**\n",
            "\n",
            "* 500g de macarrão\n",
            "* 200g de bacon picado\n",
            "* 3 ovos\n",
            "* 1/2 xícara de queijo parmesão ralado\n",
            "* Sal e pimenta a gosto\n",
            "\n",
            "**Modo de preparo:**\n",
            "\n",
            "1. Cozinhe o macarrão de acordo com as instruções da embalagem.\n",
            "2. Enquanto o macarrão cozinha, frite o bacon em uma frigideira até ficar crocante.\n",
            "3. Em uma tigela, bata os ovos com o queijo parmesão, o sal e a pimenta.\n",
            "4. Escorra o macarrão e adicione-o à frigideira com o bacon.\n",
            "5. Despeje a mistura de ovos sobre o macarrão e mexa rapidamente até que os ovos cozinhem e formem um molho cremoso.\n",
            "\n",
            "**Custo médio:** R$ 15,00\n",
            "\n",
            "**Média de calorias:** 550 kcal\n",
            "\n",
            "**Custo total médio:** R$ 62,00 \n",
            "\n",
            "Gostaria de uma lista de compras para essas receitas? (Sim/Não): Sim\n",
            "**Lista de compras:**\n",
            "\n",
            "* Salmão: 2 filés (cerca de 150g cada)\n",
            "* Quinoa: 1 xícara\n",
            "* Brócolis: 1/2 xícara\n",
            "* Cebola: 1 unidade\n",
            "* Alho: 2 dentes\n",
            "* Azeite: 1 colher de sopa\n",
            "* Frango inteiro: 1 unidade (cerca de 1,5kg)\n",
            "* Batatas: 1kg\n",
            "* Cenouras: 1kg\n",
            "* Vinho branco: 1/2 xícara (opcional)\n",
            "* Macarrão: 500g\n",
            "* Bacon: 200g\n",
            "* Ovos: 3 unidades\n",
            "* Queijo parmesão ralado: 1/2 xícara\n",
            "\n",
            "**Quantidades:**\n",
            "\n",
            "* Os ingredientes listados são suficientes para preparar as três receitas para 2 pessoas.\n",
            "* Alguns ingredientes, como sal e pimenta, não foram incluídos na lista, pois são considerados itens básicos de despensa.\n",
            "\n",
            "**Observações:**\n",
            "\n",
            "* Se você não tiver vinho branco, pode omiti-lo da receita de frango assado. \n",
            "\n",
            "Caso queira novas receitas, é só digitar 'Começar novamente'! Se já terminou, digite 'Fim'. \n",
            "\n",
            "Fim\n"
          ]
        }
      ]
    }
  ]
}